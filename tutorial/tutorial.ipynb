{
 "cells": [
  {
   "cell_type": "markdown",
   "metadata": {},
   "source": [
    "# mcDETECT Tutorial\n",
    "\n",
    "Authors: Chenyang Yuan, Krupa Patel, Hongshun Shi, Hsiao-Lin V. Wang, Feng Wang, Ronghua Li, Yangping Li, Victor G. Corces, Hailing Shi, Sulagna Das, Jindan Yu, Peng Jin, Bing Yao* and Jian Hu*"
   ]
  },
  {
   "cell_type": "markdown",
   "metadata": {},
   "source": [
    "### Outline\n",
    "1. [Installation](#1.-installation)\n",
    "2. [Import Python modules](#2.-import-python-modules)\n",
    "3. [Read in data](#3.-read-in-data)"
   ]
  },
  {
   "cell_type": "markdown",
   "metadata": {},
   "source": [
    "### 1. Installation"
   ]
  },
  {
   "cell_type": "markdown",
   "metadata": {},
   "source": [
    "### 2. Import Python modules"
   ]
  },
  {
   "cell_type": "code",
   "execution_count": null,
   "metadata": {},
   "outputs": [],
   "source": [
    "import matplotlib.colors as clr\n",
    "import matplotlib.pyplot as plt\n",
    "import scanpy as sc\n",
    "\n",
    "from model_temp import *\n",
    "\n",
    "import warnings\n",
    "warnings.filterwarnings(\"ignore\")\n",
    "sc.settings.verbosity = 0"
   ]
  },
  {
   "cell_type": "markdown",
   "metadata": {},
   "source": [
    "### 3. Read in data"
   ]
  },
  {
   "cell_type": "code",
   "execution_count": 2,
   "metadata": {},
   "outputs": [],
   "source": [
    "# Read and format transcripts\n",
    "transcripts = pd.read_parquet(\"toy_data/transcripts.parquet\")\n",
    "transcripts = transcripts[['cell_id', 'overlaps_nucleus', 'feature_name', 'x_location', 'y_location', 'z_location']]\n",
    "transcripts = transcripts.rename(columns = {\"feature_name\": \"target\", \"x_location\": \"global_x\", \"y_location\": \"global_y\", \"z_location\": \"global_z\"})\n",
    "\n",
    "# Define synaptic markers\n",
    "syn_genes = ['Snap25', 'Camk2a', 'Slc17a7', 'Vamp2', 'Syp', 'Syn1', 'Dlg4', 'Gria2', 'Gap43', 'Gria1', 'Bsn', 'Slc32a1']\n",
    "\n",
    "# Read negative control markers\n",
    "nc_genes = pd.read_csv('toy_data/negative_controls.csv')\n",
    "nc_genes = list(nc_genes['Gene'])"
   ]
  },
  {
   "cell_type": "code",
   "execution_count": 3,
   "metadata": {},
   "outputs": [],
   "source": [
    "mc = mcDETECT(type = \"Xenium\", transcripts = transcripts, syn_genes = syn_genes, nc_genes = nc_genes, eps = 1.5, grid_len = 1, cutoff_prob = 0.95, alpha = 5, low_bound = 3,\n",
    "              size_thr = 5, in_nucleus_thr = (0.5, 0.5), l = 1, rho = 0.2, s = 1, nc_top = 20, nc_thr = 0.1)"
   ]
  },
  {
   "cell_type": "code",
   "execution_count": 5,
   "metadata": {},
   "outputs": [
    {
     "name": "stdout",
     "output_type": "stream",
     "text": [
      "1 out of 12 genes processed!\n",
      "2 out of 12 genes processed!\n",
      "3 out of 12 genes processed!\n",
      "4 out of 12 genes processed!\n",
      "5 out of 12 genes processed!\n",
      "6 out of 12 genes processed!\n",
      "7 out of 12 genes processed!\n",
      "8 out of 12 genes processed!\n",
      "9 out of 12 genes processed!\n",
      "10 out of 12 genes processed!\n",
      "11 out of 12 genes processed!\n",
      "12 out of 12 genes processed!\n",
      "Merging spheres...\n",
      "Negative control filtering...\n"
     ]
    }
   ],
   "source": [
    "sphere = mc.detect()"
   ]
  },
  {
   "cell_type": "code",
   "execution_count": 6,
   "metadata": {},
   "outputs": [
    {
     "data": {
      "text/html": [
       "<div>\n",
       "<style scoped>\n",
       "    .dataframe tbody tr th:only-of-type {\n",
       "        vertical-align: middle;\n",
       "    }\n",
       "\n",
       "    .dataframe tbody tr th {\n",
       "        vertical-align: top;\n",
       "    }\n",
       "\n",
       "    .dataframe thead th {\n",
       "        text-align: right;\n",
       "    }\n",
       "</style>\n",
       "<table border=\"1\" class=\"dataframe\">\n",
       "  <thead>\n",
       "    <tr style=\"text-align: right;\">\n",
       "      <th></th>\n",
       "      <th>sphere_x</th>\n",
       "      <th>sphere_y</th>\n",
       "      <th>sphere_z</th>\n",
       "      <th>layer_z</th>\n",
       "      <th>sphere_r</th>\n",
       "      <th>size</th>\n",
       "      <th>comp</th>\n",
       "      <th>in_nucleus</th>\n",
       "      <th>gene</th>\n",
       "    </tr>\n",
       "  </thead>\n",
       "  <tbody>\n",
       "    <tr>\n",
       "      <th>0</th>\n",
       "      <td>5861.525313</td>\n",
       "      <td>2021.429797</td>\n",
       "      <td>15.259961</td>\n",
       "      <td>15.259961</td>\n",
       "      <td>1.115372</td>\n",
       "      <td>8</td>\n",
       "      <td>3</td>\n",
       "      <td>0.000000</td>\n",
       "      <td>Snap25</td>\n",
       "    </tr>\n",
       "    <tr>\n",
       "      <th>1</th>\n",
       "      <td>5823.012341</td>\n",
       "      <td>2477.027071</td>\n",
       "      <td>18.744452</td>\n",
       "      <td>18.744452</td>\n",
       "      <td>1.400544</td>\n",
       "      <td>13</td>\n",
       "      <td>5</td>\n",
       "      <td>0.000000</td>\n",
       "      <td>Snap25</td>\n",
       "    </tr>\n",
       "    <tr>\n",
       "      <th>2</th>\n",
       "      <td>5805.578936</td>\n",
       "      <td>2419.213116</td>\n",
       "      <td>18.711572</td>\n",
       "      <td>18.711572</td>\n",
       "      <td>1.355859</td>\n",
       "      <td>9</td>\n",
       "      <td>3</td>\n",
       "      <td>0.000000</td>\n",
       "      <td>Snap25</td>\n",
       "    </tr>\n",
       "    <tr>\n",
       "      <th>3</th>\n",
       "      <td>5831.996698</td>\n",
       "      <td>2545.542771</td>\n",
       "      <td>18.262820</td>\n",
       "      <td>18.262820</td>\n",
       "      <td>1.168398</td>\n",
       "      <td>7</td>\n",
       "      <td>2</td>\n",
       "      <td>0.000000</td>\n",
       "      <td>Snap25</td>\n",
       "    </tr>\n",
       "    <tr>\n",
       "      <th>4</th>\n",
       "      <td>5800.522809</td>\n",
       "      <td>2731.226949</td>\n",
       "      <td>16.212029</td>\n",
       "      <td>16.212029</td>\n",
       "      <td>1.322234</td>\n",
       "      <td>7</td>\n",
       "      <td>2</td>\n",
       "      <td>0.000000</td>\n",
       "      <td>Snap25</td>\n",
       "    </tr>\n",
       "    <tr>\n",
       "      <th>...</th>\n",
       "      <td>...</td>\n",
       "      <td>...</td>\n",
       "      <td>...</td>\n",
       "      <td>...</td>\n",
       "      <td>...</td>\n",
       "      <td>...</td>\n",
       "      <td>...</td>\n",
       "      <td>...</td>\n",
       "      <td>...</td>\n",
       "    </tr>\n",
       "    <tr>\n",
       "      <th>1421</th>\n",
       "      <td>6519.312500</td>\n",
       "      <td>2139.578125</td>\n",
       "      <td>17.562500</td>\n",
       "      <td>17.562500</td>\n",
       "      <td>0.908403</td>\n",
       "      <td>3</td>\n",
       "      <td>1</td>\n",
       "      <td>0.000000</td>\n",
       "      <td>Slc32a1</td>\n",
       "    </tr>\n",
       "    <tr>\n",
       "      <th>1422</th>\n",
       "      <td>6576.820312</td>\n",
       "      <td>2377.734375</td>\n",
       "      <td>14.804688</td>\n",
       "      <td>14.804688</td>\n",
       "      <td>1.148358</td>\n",
       "      <td>5</td>\n",
       "      <td>1</td>\n",
       "      <td>0.000000</td>\n",
       "      <td>Slc32a1</td>\n",
       "    </tr>\n",
       "    <tr>\n",
       "      <th>1423</th>\n",
       "      <td>6633.195312</td>\n",
       "      <td>2388.710938</td>\n",
       "      <td>16.890625</td>\n",
       "      <td>16.890625</td>\n",
       "      <td>0.476370</td>\n",
       "      <td>3</td>\n",
       "      <td>1</td>\n",
       "      <td>0.333333</td>\n",
       "      <td>Slc32a1</td>\n",
       "    </tr>\n",
       "    <tr>\n",
       "      <th>1424</th>\n",
       "      <td>6530.494635</td>\n",
       "      <td>2487.223874</td>\n",
       "      <td>15.567417</td>\n",
       "      <td>15.567417</td>\n",
       "      <td>1.246287</td>\n",
       "      <td>8</td>\n",
       "      <td>4</td>\n",
       "      <td>0.000000</td>\n",
       "      <td>Slc32a1</td>\n",
       "    </tr>\n",
       "    <tr>\n",
       "      <th>1425</th>\n",
       "      <td>6506.195312</td>\n",
       "      <td>2733.085938</td>\n",
       "      <td>14.562500</td>\n",
       "      <td>14.562500</td>\n",
       "      <td>0.586406</td>\n",
       "      <td>3</td>\n",
       "      <td>1</td>\n",
       "      <td>0.000000</td>\n",
       "      <td>Slc32a1</td>\n",
       "    </tr>\n",
       "  </tbody>\n",
       "</table>\n",
       "<p>1279 rows × 9 columns</p>\n",
       "</div>"
      ],
      "text/plain": [
       "         sphere_x     sphere_y   sphere_z    layer_z  sphere_r  size  comp  \\\n",
       "0     5861.525313  2021.429797  15.259961  15.259961  1.115372     8     3   \n",
       "1     5823.012341  2477.027071  18.744452  18.744452  1.400544    13     5   \n",
       "2     5805.578936  2419.213116  18.711572  18.711572  1.355859     9     3   \n",
       "3     5831.996698  2545.542771  18.262820  18.262820  1.168398     7     2   \n",
       "4     5800.522809  2731.226949  16.212029  16.212029  1.322234     7     2   \n",
       "...           ...          ...        ...        ...       ...   ...   ...   \n",
       "1421  6519.312500  2139.578125  17.562500  17.562500  0.908403     3     1   \n",
       "1422  6576.820312  2377.734375  14.804688  14.804688  1.148358     5     1   \n",
       "1423  6633.195312  2388.710938  16.890625  16.890625  0.476370     3     1   \n",
       "1424  6530.494635  2487.223874  15.567417  15.567417  1.246287     8     4   \n",
       "1425  6506.195312  2733.085938  14.562500  14.562500  0.586406     3     1   \n",
       "\n",
       "      in_nucleus     gene  \n",
       "0       0.000000   Snap25  \n",
       "1       0.000000   Snap25  \n",
       "2       0.000000   Snap25  \n",
       "3       0.000000   Snap25  \n",
       "4       0.000000   Snap25  \n",
       "...          ...      ...  \n",
       "1421    0.000000  Slc32a1  \n",
       "1422    0.000000  Slc32a1  \n",
       "1423    0.333333  Slc32a1  \n",
       "1424    0.000000  Slc32a1  \n",
       "1425    0.000000  Slc32a1  \n",
       "\n",
       "[1279 rows x 9 columns]"
      ]
     },
     "execution_count": 6,
     "metadata": {},
     "output_type": "execute_result"
    }
   ],
   "source": [
    "sphere"
   ]
  },
  {
   "cell_type": "code",
   "execution_count": 7,
   "metadata": {},
   "outputs": [],
   "source": [
    "a = mc.profile(sphere)"
   ]
  }
 ],
 "metadata": {
  "kernelspec": {
   "display_name": "Python 3",
   "language": "python",
   "name": "python3"
  },
  "language_info": {
   "codemirror_mode": {
    "name": "ipython",
    "version": 3
   },
   "file_extension": ".py",
   "mimetype": "text/x-python",
   "name": "python",
   "nbconvert_exporter": "python",
   "pygments_lexer": "ipython3",
   "version": "3.11.4"
  }
 },
 "nbformat": 4,
 "nbformat_minor": 2
}
