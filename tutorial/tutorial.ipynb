{
 "cells": [
  {
   "cell_type": "markdown",
   "metadata": {},
   "source": [
    "# mcDETECT Tutorial\n",
    "\n",
    "Authors: Chenyang Yuan, Krupa Patel, Hongshun Shi, Hsiao-Lin V. Wang, Feng Wang, Ronghua Li, Yangping Li, Victor G. Corces, Hailing Shi, Sulagna Das, Jindan Yu, Peng Jin, Bing Yao* and Jian Hu*\n",
    "\n",
    "### Outline\n",
    "\n",
    "1. [Installation](#1-installation)\n",
    "2. [Import Python modules](#2-import-python-modules)\n",
    "3. [Read in data](#3-read-in-data)\n",
    "4. [Parameter settings](#4-parameter-settings)\n",
    "5. [Synapse detection](#5-synapse-detection)\n",
    "6. [Spatial domain assignment](#6-spatial-domain-assignment)\n",
    "7. [Synapse transcriptome profiling](#7-synapse-transcriptome-profiling)\n",
    "8. [Synapse subtyping](#8-synapse-subtyping)"
   ]
  },
  {
   "cell_type": "markdown",
   "metadata": {},
   "source": [
    "### 1. Installation\n",
    "\n",
    "The detailed installation procedure can be found in [Installation](../README.md/#installation). Here I directly install `mcDETECT` by running:\n",
    "\n",
    "```bash\n",
    "python3 -m pip install mcDETECT\n",
    "```\n",
    "\n",
    "Check the current version:"
   ]
  },
  {
   "cell_type": "code",
   "execution_count": 1,
   "metadata": {},
   "outputs": [
    {
     "data": {
      "text/plain": [
       "'1.0.10'"
      ]
     },
     "execution_count": 1,
     "metadata": {},
     "output_type": "execute_result"
    }
   ],
   "source": [
    "import mcDETECT\n",
    "mcDETECT.__version__"
   ]
  },
  {
   "cell_type": "markdown",
   "metadata": {},
   "source": [
    "### 2. Import Python modules\n",
    "\n",
    "Compiling this tutorial file needs the following Python packages:"
   ]
  },
  {
   "cell_type": "code",
   "execution_count": 2,
   "metadata": {},
   "outputs": [],
   "source": [
    "import anndata\n",
    "import matplotlib.pyplot as plt\n",
    "import numpy as np\n",
    "import pandas as pd\n",
    "import random\n",
    "import scanpy as sc\n",
    "import SpaGCN as spg\n",
    "import torch\n",
    "from collections import defaultdict\n",
    "from sklearn.cluster import KMeans\n",
    "\n",
    "from mcDETECT import mcDETECT, closest\n",
    "\n",
    "import warnings\n",
    "warnings.filterwarnings(\"ignore\")\n",
    "sc.settings.verbosity = 0"
   ]
  },
  {
   "cell_type": "markdown",
   "metadata": {},
   "source": [
    "### 3. Read in data\n",
    "\n",
    "The toy dataset used in this tutorial is part of the isocortex region from the [Xenium 5K mouse brain data](https://www.10xgenomics.com/datasets/xenium-prime-fresh-frozen-mouse-brain).\n",
    "\n",
    "`mcDETECT` requires the following input:\n",
    "\n",
    "* Transcript file: dataframe, records gene identity and 3D spatial coordinates of each mRNA molecule"
   ]
  },
  {
   "cell_type": "code",
   "execution_count": 3,
   "metadata": {},
   "outputs": [],
   "source": [
    "transcripts = pd.read_parquet(\"toy_data/transcripts.parquet\")"
   ]
  },
  {
   "cell_type": "markdown",
   "metadata": {},
   "source": [
    "We need to rename some columns of the transcript file to adapt to the input format. The input transcript file should look like:"
   ]
  },
  {
   "cell_type": "code",
   "execution_count": 4,
   "metadata": {},
   "outputs": [
    {
     "name": "stdout",
     "output_type": "stream",
     "text": [
      "              cell_id  overlaps_nucleus target     global_x     global_y   global_z\n",
      "163006771  fgdhmaei-1                 0   A1cf  5994.734375  2021.468750  15.125000\n",
      "163006772  UNASSIGNED                 0    A2m  5763.109375  2043.625000  15.781250\n",
      "163006773  UNASSIGNED                 0    A2m  5951.984375  2085.984375  16.578125\n",
      "163006774  hieeideh-1                 1   Aatf  5757.593750  2163.453125  17.281250\n",
      "163006775  fghnlpdi-1                 1   Aatf  5969.406250  2149.406250  17.625000\n"
     ]
    }
   ],
   "source": [
    "transcripts = transcripts[['cell_id', 'overlaps_nucleus', 'feature_name', 'x_location', 'y_location', 'z_location']]\n",
    "transcripts = transcripts.rename(columns = {\"feature_name\": \"target\", \"x_location\": \"global_x\", \"y_location\": \"global_y\", \"z_location\": \"global_z\"})\n",
    "print(transcripts.head().to_string())"
   ]
  },
  {
   "cell_type": "markdown",
   "metadata": {},
   "source": [
    "* Synaptic markers: user-defined list"
   ]
  },
  {
   "cell_type": "code",
   "execution_count": 5,
   "metadata": {},
   "outputs": [],
   "source": [
    "syn_genes = ['Snap25', 'Camk2a', 'Slc17a7', 'Vamp2', 'Syp', 'Syn1', 'Dlg4', 'Gria2', 'Gap43', 'Gria1', 'Bsn', 'Slc32a1']"
   ]
  },
  {
   "cell_type": "markdown",
   "metadata": {},
   "source": [
    "* (Optional) Negative control markers: user-defined list. If `None`, negative control filtering will be disabled."
   ]
  },
  {
   "cell_type": "code",
   "execution_count": 6,
   "metadata": {},
   "outputs": [
    {
     "name": "stdout",
     "output_type": "stream",
     "text": [
      "['Neat1', 'Robo3', 'Sec1', 'Syne4', 'Xist', 'Thpo', 'Spaca6', 'Trmt13', 'Fbxl12', 'Cenpa']\n"
     ]
    }
   ],
   "source": [
    "nc_genes = pd.read_csv('toy_data/negative_controls.csv')\n",
    "nc_genes = list(nc_genes['Gene'])\n",
    "print(nc_genes[:10])"
   ]
  },
  {
   "cell_type": "markdown",
   "metadata": {},
   "source": [
    "### 4. Parameter settings\n",
    "\n",
    "Instantiate an object `mc` from `mcDETECT`:"
   ]
  },
  {
   "cell_type": "code",
   "execution_count": 7,
   "metadata": {},
   "outputs": [],
   "source": [
    "mc = mcDETECT(type = \"Xenium\", transcripts = transcripts, syn_genes = syn_genes, nc_genes = nc_genes, eps = 1.5,\n",
    "              minspl = None, grid_len = 1, cutoff_prob = 0.95, alpha = 5, low_bound = 3, size_thr = 5,\n",
    "              in_nucleus_thr = (0.5, 0.5), l = 1, rho = 0.2, s = 1, nc_top = 20, nc_thr = 0.1)"
   ]
  },
  {
   "cell_type": "markdown",
   "metadata": {},
   "source": [
    "Hyperparameters in `mcDETECT`:\n",
    "* `eps` ($\\epsilon$): numeric, searching radius in density-based clustering, default is 1.5 $\\mu m$\n",
    "* `minspl`: integer, min_samples in density-based clustering, default is `None`. Users can manually define `minspl` and thus disable the automatic parameter selection process.\n",
    "* `grid_len`: numeric, side length of square grids over the tissue region (used in approximating the tissue area), default is 1 $\\mu m$\n",
    "* `cutoff_prob`: numeric, cutoff probability in parameter selection for min_samples, default is 0.95\n",
    "* `alpha` ($\\alpha$): numeric, enhancing factor in parameter selection for min_samples, default is 5\n",
    "* `low_bound`: integer, lower bound in parameter selection for min_samples, default is 3\n",
    "* `size_thr`: numeric, threshold for maximum radius of an aggregation, default is 5 $\\mu m$\n",
    "* `in_nucleus_thr`: 2-d tuple, thresholds for low and high in-nucleus ratio, default is (0.5, 0.5)\n",
    "* `l`: numeric, scaling factor for seaching overlapped spheres, default is 1\n",
    "* `rho` ($\\rho$): numeric, threshold for determining overlaps, default is 0.2\n",
    "* `s`: numeric, scaling factor for merging overlapped spheres, default is 1\n",
    "* `nc_top`: integer, number of top negative control genes retained for filtering, default is 20\n",
    "* `nc_thr`: numeric, threshold for negative control filtering, default is 0.1"
   ]
  },
  {
   "cell_type": "markdown",
   "metadata": {},
   "source": [
    "### 5. Synapse detection\n",
    "\n",
    "Synapse detection is implemented in the `detect()` function:"
   ]
  },
  {
   "cell_type": "code",
   "execution_count": 8,
   "metadata": {},
   "outputs": [
    {
     "name": "stdout",
     "output_type": "stream",
     "text": [
      "1 out of 12 genes processed!\n",
      "2 out of 12 genes processed!\n",
      "3 out of 12 genes processed!\n",
      "4 out of 12 genes processed!\n",
      "5 out of 12 genes processed!\n",
      "6 out of 12 genes processed!\n",
      "7 out of 12 genes processed!\n",
      "8 out of 12 genes processed!\n",
      "9 out of 12 genes processed!\n",
      "10 out of 12 genes processed!\n",
      "11 out of 12 genes processed!\n",
      "12 out of 12 genes processed!\n",
      "Merging spheres...\n",
      "Negative control filtering...\n"
     ]
    }
   ],
   "source": [
    "synapses = mc.detect()"
   ]
  },
  {
   "cell_type": "markdown",
   "metadata": {},
   "source": [
    "The output is a dataframe of synapse metadata:"
   ]
  },
  {
   "cell_type": "code",
   "execution_count": 9,
   "metadata": {},
   "outputs": [
    {
     "name": "stdout",
     "output_type": "stream",
     "text": [
      "      sphere_x     sphere_y   sphere_z    layer_z  sphere_r  size  comp  in_nucleus    gene\n",
      "0  5861.525313  2021.429797  15.259961  15.259961  1.115372     8     3         0.0  Snap25\n",
      "1  5823.012341  2477.027071  18.744452  18.744452  1.400544    13     5         0.0  Snap25\n",
      "2  5805.578936  2419.213116  18.711572  18.711572  1.355859     9     3         0.0  Snap25\n",
      "3  5831.996698  2545.542771  18.262820  18.262820  1.168398     7     2         0.0  Snap25\n",
      "4  5800.522809  2731.226949  16.212029  16.212029  1.322234     7     2         0.0  Snap25\n"
     ]
    }
   ],
   "source": [
    "print(synapses.head().to_string())"
   ]
  },
  {
   "cell_type": "markdown",
   "metadata": {},
   "source": [
    "* `sphere_x`, `sphere_y`, `sphere_z`: 3D spatial coordinates of each identified synapse\n",
    "* `layer_z`: the nearest z-layer of each identified synapse, only applicable in iST datasets with discrete z-coordinates, e.g., MERSCOPE and CosMx\n",
    "* `sphere_r`: radius of each identified synapse\n",
    "* `size`: number of synaptic mRNAs within each synapse\n",
    "* `comp`: number of synaptic genes presented in each synapse\n",
    "* `in_nucleus`: proportion of synaptic mRNAs located within cell nuclei\n",
    "* `gene`: primary synaptic marker that defines the associated synapse"
   ]
  },
  {
   "cell_type": "markdown",
   "metadata": {},
   "source": [
    "### 6. Spatial domain assignment\n",
    "\n",
    "To detect spatial domains, we first need to create a spot-level gene expression data from the transcript file. Here we only retain the top 1,000 highly variable genes and use the `spot_expression()` function to construct such data:"
   ]
  },
  {
   "cell_type": "code",
   "execution_count": 10,
   "metadata": {},
   "outputs": [
    {
     "name": "stdout",
     "output_type": "stream",
     "text": [
      "0 out of 1000 genes profiled!\n",
      "100 out of 1000 genes profiled!\n",
      "200 out of 1000 genes profiled!\n",
      "300 out of 1000 genes profiled!\n",
      "400 out of 1000 genes profiled!\n",
      "500 out of 1000 genes profiled!\n",
      "600 out of 1000 genes profiled!\n",
      "700 out of 1000 genes profiled!\n",
      "800 out of 1000 genes profiled!\n",
      "900 out of 1000 genes profiled!\n"
     ]
    }
   ],
   "source": [
    "highly_variable_genes = pd.read_csv('toy_data/highly_variable_genes.csv')\n",
    "highly_variable_genes = list(highly_variable_genes.iloc[:, 0])\n",
    "\n",
    "spots = mc.spot_expression(grid_len = 50, genes = highly_variable_genes)"
   ]
  },
  {
   "cell_type": "markdown",
   "metadata": {},
   "source": [
    "* `grid_len`: numeric, side length of square grids over the tissue region, default is 50 $\\mu m$\n",
    "\n",
    "The output is an anndata object representing the spot-level gene expression data:"
   ]
  },
  {
   "cell_type": "code",
   "execution_count": 11,
   "metadata": {},
   "outputs": [
    {
     "data": {
      "text/plain": [
       "AnnData object with n_obs × n_vars = 400 × 1000\n",
       "    obs: 'spot_id', 'global_x', 'global_y'\n",
       "    var: 'genes'"
      ]
     },
     "execution_count": 11,
     "metadata": {},
     "output_type": "execute_result"
    }
   ],
   "source": [
    "spots"
   ]
  },
  {
   "cell_type": "markdown",
   "metadata": {},
   "source": [
    "Next, we apply a spatial clustering approach, `SpaGCN`, on this anndata object for spatial domain detection. For more details check its [GitHub page](https://github.com/jianhuupenn/SpaGCN/)."
   ]
  },
  {
   "cell_type": "code",
   "execution_count": 12,
   "metadata": {},
   "outputs": [],
   "source": [
    "%%capture\n",
    "\n",
    "# Spot coordinates\n",
    "x_array = spots.obs['global_x'].tolist()\n",
    "y_array = spots.obs['global_y'].tolist()\n",
    "\n",
    "# Adjacency matrix\n",
    "s = 1\n",
    "b = 49\n",
    "adj = spg.calculate_adj_matrix(x = x_array, y = y_array, histology = False)\n",
    "\n",
    "# Pre-processing\n",
    "spots.var_names_make_unique()\n",
    "spg.prefilter_genes(spots, min_cells = 3)\n",
    "spg.prefilter_specialgenes(spots)\n",
    "sc.pp.normalize_total(spots, target_sum = 1e4)\n",
    "sc.pp.log1p(spots)\n",
    "\n",
    "# Set hyperparameters\n",
    "p = 0.5\n",
    "l = spg.search_l(p, adj, start = 0.01, end = 1000, tol = 0.01, max_run = 100)\n",
    "\n",
    "n_clusters = 6\n",
    "r_seed = t_seed = n_seed = 1\n",
    "res = spg.search_res(spots, adj, l, n_clusters, start = 0.7, step = 0.1, tol = 5e-3, lr = 0.05, max_epochs = 20, r_seed = r_seed, t_seed = t_seed, n_seed = n_seed)\n",
    "\n",
    "# Run SpaGCN\n",
    "clf = spg.SpaGCN()\n",
    "clf.set_l(l)\n",
    "\n",
    "random.seed(r_seed)\n",
    "torch.manual_seed(t_seed)\n",
    "np.random.seed(n_seed)\n",
    "\n",
    "clf.train(spots, adj, init_spa = True, init = \"louvain\", res = res, tol = 5e-3, lr = 0.05, max_epochs = 200)\n",
    "y_pred, prob = clf.predict()\n",
    "spots.obs[\"pred\"] = y_pred\n",
    "spots.obs[\"pred\"] = spots.obs[\"pred\"].astype('category')\n",
    "\n",
    "adj_2d = spg.calculate_adj_matrix(x = x_array, y = y_array, histology = False)\n",
    "refined_pred = spg.refine(sample_id = spots.obs.index.tolist(), pred = spots.obs[\"pred\"].tolist(), dis = adj_2d, shape = \"square\")\n",
    "spots.obs[\"refined_pred\"] = refined_pred\n",
    "spots.obs[\"refined_pred\"] = spots.obs[\"refined_pred\"].astype('category')"
   ]
  },
  {
   "cell_type": "markdown",
   "metadata": {},
   "source": [
    "Spot-level spatial domain assignment:"
   ]
  },
  {
   "cell_type": "code",
   "execution_count": 13,
   "metadata": {},
   "outputs": [],
   "source": [
    "sc.set_figure_params(scanpy = True, figsize = (5, 5))\n",
    "ax = sc.pl.scatter(spots, alpha = 1, x = \"global_y\", y = \"global_x\", color = \"refined_pred\", size = 800, title = \" \", show = False)\n",
    "ax.grid(False)\n",
    "ax.set_aspect('equal', 'box')\n",
    "plt.savefig(\"tutorial_files/spatial_domain.png\", dpi = 120)\n",
    "plt.close()"
   ]
  },
  {
   "cell_type": "markdown",
   "metadata": {},
   "source": [
    "We can replace the spatial domain labels with meaningful brain region labels, i.e., isocortex layers:"
   ]
  },
  {
   "cell_type": "code",
   "execution_count": 14,
   "metadata": {},
   "outputs": [],
   "source": [
    "area_dict = {'Others': [4],\n",
    "             'Layer I': [3],\n",
    "             'Layer II/III': [0],\n",
    "             'Layer IV': [1],\n",
    "             'Layer V': [2],\n",
    "             'Layer VI': [5]}\n",
    "\n",
    "spots.obs['brain_area'] = np.nan\n",
    "for i in area_dict.keys():\n",
    "    ind = pd.Series(spots.obs['refined_pred']).isin(area_dict[i])\n",
    "    spots.obs.loc[ind, 'brain_area'] = i"
   ]
  },
  {
   "cell_type": "markdown",
   "metadata": {},
   "source": [
    "The assigned brain region label for each spot is propagated to all synapses within it. The `closest()` function is designed to identify the element in a list that has the smallest distance to the query item."
   ]
  },
  {
   "cell_type": "code",
   "execution_count": 15,
   "metadata": {},
   "outputs": [],
   "source": [
    "labels_df = pd.DataFrame({'global_x': spots.obs['global_x'], 'global_y': spots.obs['global_y'], 'brain_area': spots.obs['brain_area']})\n",
    "x_grid, y_grid = list(np.unique(labels_df['global_x'])), list(np.unique(labels_df['global_y']))\n",
    "\n",
    "synapses['brain_area'] = np.nan\n",
    "for i in range(synapses.shape[0]):\n",
    "    closest_x = closest(x_grid, synapses['sphere_x'].iloc[i])\n",
    "    closest_y = closest(y_grid, synapses['sphere_y'].iloc[i])\n",
    "    target_label = labels_df[(labels_df['global_x'] == closest_x) & (labels_df['global_y'] == closest_y)]\n",
    "    synapses['brain_area'].iloc[i] = target_label['brain_area'][0]"
   ]
  },
  {
   "cell_type": "markdown",
   "metadata": {},
   "source": [
    "The resulting spatial distribution of all identified synapses, colored by brain region:"
   ]
  },
  {
   "cell_type": "code",
   "execution_count": 16,
   "metadata": {},
   "outputs": [],
   "source": [
    "synapse_adata = anndata.AnnData(X = np.zeros(synapses.shape), obs = synapses)\n",
    "synapse_adata.obs['brain_area'] = pd.Categorical(synapse_adata.obs['brain_area'], categories = ['Layer I', 'Layer II/III', 'Layer IV', 'Layer V', 'Layer VI'], ordered = True)\n",
    "\n",
    "color_map = [\"#F56867\", \"#FEB915\", \"#C798EE\", \"#59BE86\", \"#7495D3\"]\n",
    "ax = sc.pl.scatter(synapse_adata, alpha = 1, x = 'sphere_y', y = 'sphere_x', color = 'brain_area', palette = color_map, size = 30, title = \" \", show = False)\n",
    "ax.grid(False)\n",
    "ax.set_aspect('equal', 'box')\n",
    "plt.savefig(\"tutorial_files/synapses.png\", dpi = 120)\n",
    "plt.close()"
   ]
  },
  {
   "cell_type": "markdown",
   "metadata": {},
   "source": [
    "### 7. Synapse transcriptome profiling\n",
    "\n",
    "Synapse transcriptome profiling is implemented in the `profile()` function. The "
   ]
  },
  {
   "cell_type": "code",
   "execution_count": 17,
   "metadata": {},
   "outputs": [],
   "source": [
    "syn_adata = mc.profile(synapses)"
   ]
  },
  {
   "cell_type": "markdown",
   "metadata": {},
   "source": [
    "The output is an anndata object representing the spatial transcriptome profile of all identified synapses:"
   ]
  },
  {
   "cell_type": "code",
   "execution_count": 18,
   "metadata": {},
   "outputs": [
    {
     "data": {
      "text/plain": [
       "AnnData object with n_obs × n_vars = 1279 × 5006\n",
       "    obs: 'global_x', 'global_y', 'global_z', 'layer_z', 'sphere_r', 'size', 'comp', 'in_nucleus', 'gene', 'brain_area', 'synapse_id'\n",
       "    var: 'genes'"
      ]
     },
     "execution_count": 18,
     "metadata": {},
     "output_type": "execute_result"
    }
   ],
   "source": [
    "syn_adata"
   ]
  },
  {
   "cell_type": "markdown",
   "metadata": {},
   "source": [
    "### 8. Synapse subtyping\n",
    "\n",
    "We can classify the identified synapses into dinstinct subtypes, e.g., pre-synapses and post-synapses, based on their transcriptome profile. Here we use a list of pre- and post-synaptic markers for synapse subtyping:"
   ]
  },
  {
   "cell_type": "code",
   "execution_count": 19,
   "metadata": {},
   "outputs": [
    {
     "data": {
      "text/plain": [
       "AnnData object with n_obs × n_vars = 1279 × 20\n",
       "    obs: 'global_x', 'global_y', 'global_z', 'layer_z', 'sphere_r', 'size', 'comp', 'in_nucleus', 'gene', 'brain_area', 'synapse_id'\n",
       "    var: 'genes'"
      ]
     },
     "execution_count": 19,
     "metadata": {},
     "output_type": "execute_result"
    }
   ],
   "source": [
    "ref_genes = ['Bsn', 'Gap43', 'Nrxn1', 'Slc17a6', 'Slc17a7', 'Slc32a1', 'Snap25', 'Stx1a', 'Syn1', 'Syp', 'Syt1', 'Vamp2'] + ['Camk2a', 'Dlg3', 'Dlg4', 'Gphn', 'Gria1', 'Gria2', 'Homer1', 'Homer2', 'Nlgn1', 'Nlgn2', 'Nlgn3', 'Shank1', 'Shank3']\n",
    "ref_genes = [i for i in ref_genes if i in syn_adata.var_names]\n",
    "\n",
    "syn_adata_subset = syn_adata[:, ref_genes].copy()\n",
    "syn_adata_subset"
   ]
  },
  {
   "cell_type": "markdown",
   "metadata": {},
   "source": [
    "K-Means clustering on the synapses based on the enrichment of these markers:"
   ]
  },
  {
   "cell_type": "code",
   "execution_count": 20,
   "metadata": {},
   "outputs": [],
   "source": [
    "data = syn_adata_subset.X\n",
    "if not isinstance(data, np.ndarray):\n",
    "    data = data.toarray()\n",
    "\n",
    "n_clusters = 10\n",
    "kmeans = KMeans(n_clusters = n_clusters, random_state = 42, n_init = 25)\n",
    "kmeans.fit(data)\n",
    "syn_adata.obs['kmeans_pre_post'] = kmeans.labels_.astype(str)"
   ]
  },
  {
   "cell_type": "markdown",
   "metadata": {},
   "source": [
    "Examine the enrichment of these markers in each resulting clusters:"
   ]
  },
  {
   "cell_type": "code",
   "execution_count": 21,
   "metadata": {},
   "outputs": [],
   "source": [
    "marker_genes = {'pre-syn': ['Bsn', 'Gap43', 'Slc17a6', 'Slc17a7', 'Slc32a1', 'Snap25', 'Stx1a', 'Syn1', 'Syp', 'Vamp2'],\n",
    "                'post-syn': ['Camk2a', 'Dlg3', 'Dlg4', 'Gphn', 'Gria1', 'Gria2', 'Homer1', 'Nlgn2', 'Nlgn3', 'Shank3']}\n",
    "\n",
    "expression_data = pd.DataFrame(syn_adata.X, columns=syn_adata.var_names, index=syn_adata.obs_names)\n",
    "kmeans_labels = syn_adata.obs['kmeans_pre_post']\n",
    "cluster_marker_avg = defaultdict(lambda: defaultdict(int))\n",
    "\n",
    "for cluster, genes in marker_genes.items():\n",
    "    num_genes = len(genes)\n",
    "    for gene in genes:\n",
    "        if gene in expression_data.columns:\n",
    "            gene_expression = expression_data[gene].groupby(kmeans_labels).sum()\n",
    "            for kmeans_cluster, expr_sum in gene_expression.items():\n",
    "                cluster_marker_avg[kmeans_cluster][cluster] += expr_sum / num_genes\n",
    "\n",
    "cluster_percentages = {}\n",
    "for kmeans_cluster, cluster_counts in cluster_marker_avg.items():\n",
    "    total_expression = sum(cluster_counts.values())\n",
    "    if total_expression > 0:\n",
    "        cluster_percentages[kmeans_cluster] = {cluster: (count / total_expression) * 100 for cluster, count in cluster_counts.items()}\n",
    "    else:\n",
    "        cluster_percentages[kmeans_cluster] = {cluster: 0 for cluster in cluster_counts.keys()}\n",
    "\n",
    "cluster_labels = list(cluster_percentages.keys())\n",
    "marker_clusters = list(marker_genes.keys())\n",
    "\n",
    "plot_data = np.array([\n",
    "    [cluster_percentages[cluster].get(marker, 0) for marker in marker_clusters]\n",
    "    for cluster in cluster_labels\n",
    "])\n",
    "\n",
    "fig, ax = plt.subplots(figsize=(8, 6))\n",
    "bottom = np.zeros(len(cluster_labels))\n",
    "\n",
    "for i, marker_cluster in enumerate(marker_clusters):\n",
    "    ax.bar(cluster_labels, plot_data[:, i], bottom=bottom, label=marker_cluster)\n",
    "    bottom += plot_data[:, i]\n",
    "\n",
    "ax.set_xlabel('mcDETECT Clusters')\n",
    "ax.set_ylabel('Percentage of Marker Genes')\n",
    "ax.grid(False)\n",
    "ax.legend(title = \"Type\",loc = \"upper right\")\n",
    "plt.savefig('tutorial_files/synapse_subtyping.png', dpi = 120)\n",
    "plt.close()"
   ]
  },
  {
   "cell_type": "markdown",
   "metadata": {},
   "source": [
    "Assign each cluster as representing pre- or post-synapses:"
   ]
  },
  {
   "cell_type": "code",
   "execution_count": 22,
   "metadata": {},
   "outputs": [
    {
     "name": "stdout",
     "output_type": "stream",
     "text": [
      "['0', '1', '3', '4', '5', '6', '8', '9'] ['2', '7'] []\n"
     ]
    }
   ],
   "source": [
    "pre_lst, post_lst, neutral_lst = [], [], []\n",
    "for i in range(len(cluster_labels)):\n",
    "    if plot_data[i, 0] > 60:\n",
    "        pre_lst.append(cluster_labels[i])\n",
    "    elif plot_data[i, 0] < 40:\n",
    "        post_lst.append(cluster_labels[i])\n",
    "    else:\n",
    "        neutral_lst.append(cluster_labels[i])\n",
    "\n",
    "pre_post_dict = {'pre-syn': pre_lst, 'post-syn': post_lst, 'neutral': neutral_lst}\n",
    "syn_adata.obs['pre_post'] = np.nan\n",
    "for i in pre_post_dict.keys():\n",
    "    ind = pd.Series(syn_adata.obs['kmeans_pre_post']).isin(pre_post_dict[i])\n",
    "    syn_adata.obs.loc[ind, 'pre_post'] = i\n",
    "print(pre_lst, post_lst, neutral_lst)"
   ]
  },
  {
   "cell_type": "markdown",
   "metadata": {},
   "source": [
    "Spatial distribution of the identified pre- and post-synapses:"
   ]
  },
  {
   "cell_type": "code",
   "execution_count": 23,
   "metadata": {},
   "outputs": [],
   "source": [
    "syn_adata.obs[\"pre_post\"] = pd.Categorical(syn_adata.obs[\"pre_post\"], categories = ['pre-syn', 'post-syn'], ordered = True)\n",
    "\n",
    "ax = sc.pl.scatter(syn_adata, alpha = 1, x = 'global_y', y = 'global_x', color = 'pre_post', size = 30, title = \" \", show = False)\n",
    "ax.grid(False)\n",
    "ax.set_aspect('equal', 'box')\n",
    "plt.savefig(\"tutorial_files/synapses_pre_post.png\", dpi = 120)\n",
    "plt.close()"
   ]
  },
  {
   "cell_type": "code",
   "execution_count": null,
   "metadata": {},
   "outputs": [],
   "source": []
  }
 ],
 "metadata": {
  "kernelspec": {
   "display_name": "Python 3",
   "language": "python",
   "name": "python3"
  },
  "language_info": {
   "codemirror_mode": {
    "name": "ipython",
    "version": 3
   },
   "file_extension": ".py",
   "mimetype": "text/x-python",
   "name": "python",
   "nbconvert_exporter": "python",
   "pygments_lexer": "ipython3",
   "version": "3.11.4"
  }
 },
 "nbformat": 4,
 "nbformat_minor": 2
}
