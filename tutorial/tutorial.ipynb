{
 "cells": [
  {
   "cell_type": "markdown",
   "metadata": {},
   "source": [
    "# mcDETECT Tutorial\n",
    "\n",
    "Authors: Chenyang Yuan, Krupa Patel, Hongshun Shi, Hsiao-Lin V. Wang, Feng Wang, Ronghua Li, Yangping Li, Victor G. Corces, Hailing Shi, Sulagna Das, Jindan Yu, Peng Jin, Bing Yao* and Jian Hu*\n",
    "\n",
    "### Outline\n",
    "\n",
    "1. [Installation](#1-installation)\n",
    "2. [Import Python modules](#2-import-python-modules)\n",
    "3. [Read in data](#3-read-in-data)\n",
    "4. [Parameter settings](#4-parameter-settings)\n",
    "5. [Synapse detection](#5-synapse-detection)\n",
    "6. [Spatial domain assignment](#6-spatial-domain-assignment)\n",
    "7. [Synapse transcriptome profiling](#7-synapse-transcriptome-profiling)\n",
    "8. [Synapse subtyping](#8-synapse-subtyping)"
   ]
  },
  {
   "cell_type": "markdown",
   "metadata": {},
   "source": [
    "### 1. Installation\n",
    "\n",
    "The detailed installation procedure can be found in [Installation](../README.md/#installation). Here I directly install `mcDETECT` by running:\n",
    "\n",
    "```bash\n",
    "python3 -m pip install mcDETECT\n",
    "```\n",
    "\n",
    "Check the current version:"
   ]
  },
  {
   "cell_type": "code",
   "execution_count": 8,
   "metadata": {},
   "outputs": [
    {
     "data": {
      "text/plain": [
       "'1.0.8'"
      ]
     },
     "execution_count": 8,
     "metadata": {},
     "output_type": "execute_result"
    }
   ],
   "source": [
    "import mcDETECT\n",
    "mcDETECT.__version__"
   ]
  },
  {
   "cell_type": "markdown",
   "metadata": {},
   "source": [
    "### 2. Import Python modules\n",
    "\n",
    "Compiling this tutorial file needs the following Python packages:"
   ]
  },
  {
   "cell_type": "code",
   "execution_count": 9,
   "metadata": {},
   "outputs": [],
   "source": [
    "import anndata\n",
    "import math\n",
    "import matplotlib.colors as clr\n",
    "import matplotlib.pyplot as plt\n",
    "import miniball\n",
    "import numpy as np\n",
    "import pandas as pd\n",
    "import scanpy as sc\n",
    "import SpaGCN as spg\n",
    "from mcDETECT import mcDETECT\n",
    "\n",
    "import warnings\n",
    "warnings.filterwarnings(\"ignore\")\n",
    "sc.settings.verbosity = 0"
   ]
  },
  {
   "cell_type": "markdown",
   "metadata": {},
   "source": [
    "### 3. Read in data\n",
    "\n",
    "The toy dataset used in this tutorial is part of the isocortex region from [Xenium 5K mouse brain data](https://www.10xgenomics.com/datasets/xenium-prime-fresh-frozen-mouse-brain).\n",
    "\n",
    "`mcDETECT` requires the following input:\n",
    "\n",
    "* Transcript file (dataframe): records gene identity and 3D spatial coordinates of each mRNA molecule"
   ]
  },
  {
   "cell_type": "code",
   "execution_count": 10,
   "metadata": {},
   "outputs": [],
   "source": [
    "transcripts = pd.read_parquet(\"toy_data/transcripts.parquet\")"
   ]
  },
  {
   "cell_type": "markdown",
   "metadata": {},
   "source": [
    "We need to rename some columns of the transcript file to adapt to the input format. The input transcript file should look like:"
   ]
  },
  {
   "cell_type": "code",
   "execution_count": 11,
   "metadata": {},
   "outputs": [
    {
     "data": {
      "text/html": [
       "<div>\n",
       "<style scoped>\n",
       "    .dataframe tbody tr th:only-of-type {\n",
       "        vertical-align: middle;\n",
       "    }\n",
       "\n",
       "    .dataframe tbody tr th {\n",
       "        vertical-align: top;\n",
       "    }\n",
       "\n",
       "    .dataframe thead th {\n",
       "        text-align: right;\n",
       "    }\n",
       "</style>\n",
       "<table border=\"1\" class=\"dataframe\">\n",
       "  <thead>\n",
       "    <tr style=\"text-align: right;\">\n",
       "      <th></th>\n",
       "      <th>cell_id</th>\n",
       "      <th>overlaps_nucleus</th>\n",
       "      <th>target</th>\n",
       "      <th>global_x</th>\n",
       "      <th>global_y</th>\n",
       "      <th>global_z</th>\n",
       "    </tr>\n",
       "  </thead>\n",
       "  <tbody>\n",
       "    <tr>\n",
       "      <th>163006771</th>\n",
       "      <td>fgdhmaei-1</td>\n",
       "      <td>0</td>\n",
       "      <td>A1cf</td>\n",
       "      <td>5994.734375</td>\n",
       "      <td>2021.468750</td>\n",
       "      <td>15.125000</td>\n",
       "    </tr>\n",
       "    <tr>\n",
       "      <th>163006772</th>\n",
       "      <td>UNASSIGNED</td>\n",
       "      <td>0</td>\n",
       "      <td>A2m</td>\n",
       "      <td>5763.109375</td>\n",
       "      <td>2043.625000</td>\n",
       "      <td>15.781250</td>\n",
       "    </tr>\n",
       "    <tr>\n",
       "      <th>163006773</th>\n",
       "      <td>UNASSIGNED</td>\n",
       "      <td>0</td>\n",
       "      <td>A2m</td>\n",
       "      <td>5951.984375</td>\n",
       "      <td>2085.984375</td>\n",
       "      <td>16.578125</td>\n",
       "    </tr>\n",
       "    <tr>\n",
       "      <th>163006774</th>\n",
       "      <td>hieeideh-1</td>\n",
       "      <td>1</td>\n",
       "      <td>Aatf</td>\n",
       "      <td>5757.593750</td>\n",
       "      <td>2163.453125</td>\n",
       "      <td>17.281250</td>\n",
       "    </tr>\n",
       "    <tr>\n",
       "      <th>163006775</th>\n",
       "      <td>fghnlpdi-1</td>\n",
       "      <td>1</td>\n",
       "      <td>Aatf</td>\n",
       "      <td>5969.406250</td>\n",
       "      <td>2149.406250</td>\n",
       "      <td>17.625000</td>\n",
       "    </tr>\n",
       "  </tbody>\n",
       "</table>\n",
       "</div>"
      ],
      "text/plain": [
       "              cell_id  overlaps_nucleus target     global_x     global_y  \\\n",
       "163006771  fgdhmaei-1                 0   A1cf  5994.734375  2021.468750   \n",
       "163006772  UNASSIGNED                 0    A2m  5763.109375  2043.625000   \n",
       "163006773  UNASSIGNED                 0    A2m  5951.984375  2085.984375   \n",
       "163006774  hieeideh-1                 1   Aatf  5757.593750  2163.453125   \n",
       "163006775  fghnlpdi-1                 1   Aatf  5969.406250  2149.406250   \n",
       "\n",
       "            global_z  \n",
       "163006771  15.125000  \n",
       "163006772  15.781250  \n",
       "163006773  16.578125  \n",
       "163006774  17.281250  \n",
       "163006775  17.625000  "
      ]
     },
     "execution_count": 11,
     "metadata": {},
     "output_type": "execute_result"
    }
   ],
   "source": [
    "transcripts = transcripts[['cell_id', 'overlaps_nucleus', 'feature_name', 'x_location', 'y_location', 'z_location']]\n",
    "transcripts = transcripts.rename(columns = {\"feature_name\": \"target\", \"x_location\": \"global_x\", \"y_location\": \"global_y\", \"z_location\": \"global_z\"})\n",
    "transcripts.head()"
   ]
  },
  {
   "cell_type": "code",
   "execution_count": null,
   "metadata": {},
   "outputs": [],
   "source": [
    "transcripts"
   ]
  },
  {
   "cell_type": "markdown",
   "metadata": {},
   "source": [
    "* Synaptic markers (list)"
   ]
  },
  {
   "cell_type": "code",
   "execution_count": null,
   "metadata": {},
   "outputs": [],
   "source": [
    "syn_genes = ['Snap25', 'Camk2a', 'Slc17a7', 'Vamp2', 'Syp', 'Syn1', 'Dlg4', 'Gria2', 'Gap43', 'Gria1', 'Bsn', 'Slc32a1']"
   ]
  },
  {
   "cell_type": "markdown",
   "metadata": {},
   "source": [
    "* Negative control markers (list)"
   ]
  },
  {
   "cell_type": "code",
   "execution_count": null,
   "metadata": {},
   "outputs": [],
   "source": [
    "nc_genes = pd.read_csv('toy_data/negative_controls.csv')\n",
    "nc_genes = list(nc_genes['Gene'])"
   ]
  },
  {
   "cell_type": "markdown",
   "metadata": {},
   "source": [
    "### 4. Parameter settings"
   ]
  },
  {
   "cell_type": "code",
   "execution_count": null,
   "metadata": {},
   "outputs": [],
   "source": [
    "mc = mcDETECT(type = \"Xenium\", transcripts = transcripts, syn_genes = syn_genes, nc_genes = nc_genes, eps = 1.5, grid_len = 1, cutoff_prob = 0.95, alpha = 5, low_bound = 3,\n",
    "              size_thr = 5, in_nucleus_thr = (0.5, 0.5), l = 1, rho = 0.2, s = 1, nc_top = 20, nc_thr = 0.1)"
   ]
  },
  {
   "cell_type": "markdown",
   "metadata": {},
   "source": [
    "### 5. Synapse detection"
   ]
  },
  {
   "cell_type": "code",
   "execution_count": null,
   "metadata": {},
   "outputs": [],
   "source": [
    "sphere = mc.detect()"
   ]
  },
  {
   "cell_type": "code",
   "execution_count": null,
   "metadata": {},
   "outputs": [],
   "source": [
    "sphere"
   ]
  },
  {
   "cell_type": "code",
   "execution_count": null,
   "metadata": {},
   "outputs": [],
   "source": [
    "a, b = mc.construct_grid()"
   ]
  },
  {
   "cell_type": "code",
   "execution_count": null,
   "metadata": {},
   "outputs": [],
   "source": [
    "len(b)"
   ]
  },
  {
   "cell_type": "code",
   "execution_count": null,
   "metadata": {},
   "outputs": [],
   "source": [
    "aaa = mc.spot_expression(grid_len=50)"
   ]
  },
  {
   "cell_type": "code",
   "execution_count": null,
   "metadata": {},
   "outputs": [],
   "source": []
  },
  {
   "cell_type": "markdown",
   "metadata": {},
   "source": [
    "### 6. Spatial domain assignment"
   ]
  },
  {
   "cell_type": "markdown",
   "metadata": {},
   "source": [
    "### 7. Synapse transcriptome profiling"
   ]
  },
  {
   "cell_type": "code",
   "execution_count": null,
   "metadata": {},
   "outputs": [],
   "source": [
    "a = mc.profile(sphere)"
   ]
  },
  {
   "cell_type": "markdown",
   "metadata": {},
   "source": [
    "### 8. Synapse subtyping"
   ]
  }
 ],
 "metadata": {
  "kernelspec": {
   "display_name": "Python 3",
   "language": "python",
   "name": "python3"
  },
  "language_info": {
   "codemirror_mode": {
    "name": "ipython",
    "version": 3
   },
   "file_extension": ".py",
   "mimetype": "text/x-python",
   "name": "python",
   "nbconvert_exporter": "python",
   "pygments_lexer": "ipython3",
   "version": "3.11.4"
  }
 },
 "nbformat": 4,
 "nbformat_minor": 2
}
