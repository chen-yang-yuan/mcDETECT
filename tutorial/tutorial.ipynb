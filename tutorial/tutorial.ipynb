{
 "cells": [
  {
   "cell_type": "markdown",
   "metadata": {},
   "source": [
    "# mcDETECT Tutorial\n",
    "\n",
    "Authors: Chenyang Yuan, Krupa Patel, Hongshun Shi, Hsiao-Lin V. Wang, Feng Wang, Ronghua Li, Yangping Li, Victor G. Corces, Hailing Shi, Sulagna Das, Jindan Yu, Peng Jin, Bing Yao* and Jian Hu*"
   ]
  },
  {
   "cell_type": "markdown",
   "metadata": {},
   "source": [
    "### Outline\n",
    "\n",
    "1. [Installation](#1-installation)\n",
    "2. [Import Python modules](#2-import-python-modules)\n",
    "3. [Read in data](#3-read-in-data)\n",
    "4. [Parameter settings](#4-parameter-settings)\n",
    "5. [Synapse detection](#5-synapse-detection)\n",
    "6. [Spatial domain assignment](#6-spatial-domain-assignment)\n",
    "7. [Synapse transcriptome profiling](#7-synapse-transcriptome-profiling)\n",
    "8. [Synapse subtyping](#8-synapse-subtyping)"
   ]
  },
  {
   "cell_type": "markdown",
   "metadata": {},
   "source": [
    "### 1. Installation"
   ]
  },
  {
   "cell_type": "markdown",
   "metadata": {},
   "source": [
    "The detailed installation procedure can be found in [Installation](../README.md/#installation). Here I directly install the package by running:\n",
    "\n",
    "```bash\n",
    "python3 -m pip install mcDETECT\n",
    "```"
   ]
  },
  {
   "cell_type": "markdown",
   "metadata": {},
   "source": [
    "### 2. Import Python modules\n",
    "\n",
    "Compiling this tutorial file needs the following Python packages:"
   ]
  },
  {
   "cell_type": "code",
   "execution_count": 9,
   "metadata": {},
   "outputs": [],
   "source": [
    "import anndata\n",
    "import math\n",
    "import matplotlib.colors as clr\n",
    "import matplotlib.pyplot as plt\n",
    "import miniball\n",
    "import numpy as np\n",
    "import pandas as pd\n",
    "import scanpy as sc\n",
    "import tabulate\n",
    "from mcDETECT import mcDETECT\n",
    "\n",
    "import warnings\n",
    "warnings.filterwarnings(\"ignore\")\n",
    "sc.settings.verbosity = 0"
   ]
  },
  {
   "cell_type": "markdown",
   "metadata": {},
   "source": [
    "### 3. Read in data\n",
    "\n",
    "`mcDETECT` requires the following input:\n",
    "\n",
    "* Transcript file (data frame)"
   ]
  },
  {
   "cell_type": "code",
   "execution_count": 12,
   "metadata": {},
   "outputs": [],
   "source": [
    "transcripts = pd.read_parquet(\"toy_data/transcripts.parquet\")"
   ]
  },
  {
   "cell_type": "markdown",
   "metadata": {},
   "source": [
    "We need to rename some columns of the transcript file to combat"
   ]
  },
  {
   "cell_type": "code",
   "execution_count": 13,
   "metadata": {},
   "outputs": [
    {
     "name": "stdout",
     "output_type": "stream",
     "text": [
      "|           | cell_id    |   overlaps_nucleus | target   |   global_x |   global_y |   global_z |\n",
      "|----------:|:-----------|-------------------:|:---------|-----------:|-----------:|-----------:|\n",
      "| 163006771 | fgdhmaei-1 |                  0 | A1cf     |    5994.73 |    2021.47 |    15.125  |\n",
      "| 163006772 | UNASSIGNED |                  0 | A2m      |    5763.11 |    2043.62 |    15.7812 |\n",
      "| 163006773 | UNASSIGNED |                  0 | A2m      |    5951.98 |    2085.98 |    16.5781 |\n",
      "| 163006774 | hieeideh-1 |                  1 | Aatf     |    5757.59 |    2163.45 |    17.2812 |\n",
      "| 163006775 | fghnlpdi-1 |                  1 | Aatf     |    5969.41 |    2149.41 |    17.625  |\n"
     ]
    }
   ],
   "source": [
    "transcripts = transcripts[['cell_id', 'overlaps_nucleus', 'feature_name', 'x_location', 'y_location', 'z_location']]\n",
    "transcripts = transcripts.rename(columns = {\"feature_name\": \"target\", \"x_location\": \"global_x\", \"y_location\": \"global_y\", \"z_location\": \"global_z\"})\n",
    "print(transcripts.head().to_markdown())"
   ]
  },
  {
   "cell_type": "code",
   "execution_count": 4,
   "metadata": {},
   "outputs": [],
   "source": [
    "# Read and format transcripts\n",
    "\n",
    "\n",
    "# Define synaptic markers\n",
    "syn_genes = ['Snap25', 'Camk2a', 'Slc17a7', 'Vamp2', 'Syp', 'Syn1', 'Dlg4', 'Gria2', 'Gap43', 'Gria1', 'Bsn', 'Slc32a1']\n",
    "\n",
    "# Read negative control markers\n",
    "nc_genes = pd.read_csv('toy_data/negative_controls.csv')\n",
    "nc_genes = list(nc_genes['Gene'])"
   ]
  },
  {
   "cell_type": "markdown",
   "metadata": {},
   "source": [
    "### 4. Parameter settings"
   ]
  },
  {
   "cell_type": "code",
   "execution_count": null,
   "metadata": {},
   "outputs": [],
   "source": [
    "mc = mcDETECT(type = \"Xenium\", transcripts = transcripts, syn_genes = syn_genes, nc_genes = nc_genes, eps = 1.5, grid_len = 1, cutoff_prob = 0.95, alpha = 5, low_bound = 3,\n",
    "              size_thr = 5, in_nucleus_thr = (0.5, 0.5), l = 1, rho = 0.2, s = 1, nc_top = 20, nc_thr = 0.1)"
   ]
  },
  {
   "cell_type": "markdown",
   "metadata": {},
   "source": [
    "### 5. Synapse detection"
   ]
  },
  {
   "cell_type": "code",
   "execution_count": null,
   "metadata": {},
   "outputs": [],
   "source": [
    "sphere = mc.detect()"
   ]
  },
  {
   "cell_type": "code",
   "execution_count": null,
   "metadata": {},
   "outputs": [],
   "source": [
    "sphere"
   ]
  },
  {
   "cell_type": "code",
   "execution_count": null,
   "metadata": {},
   "outputs": [],
   "source": [
    "a, b = mc.construct_grid()"
   ]
  },
  {
   "cell_type": "code",
   "execution_count": null,
   "metadata": {},
   "outputs": [],
   "source": [
    "len(b)"
   ]
  },
  {
   "cell_type": "code",
   "execution_count": null,
   "metadata": {},
   "outputs": [],
   "source": [
    "aaa = mc.spot_expression(grid_len=50)"
   ]
  },
  {
   "cell_type": "code",
   "execution_count": null,
   "metadata": {},
   "outputs": [],
   "source": []
  },
  {
   "cell_type": "markdown",
   "metadata": {},
   "source": [
    "### 6. Spatial domain assignment"
   ]
  },
  {
   "cell_type": "markdown",
   "metadata": {},
   "source": [
    "### 7. Synapse transcriptome profiling"
   ]
  },
  {
   "cell_type": "code",
   "execution_count": null,
   "metadata": {},
   "outputs": [],
   "source": [
    "a = mc.profile(sphere)"
   ]
  },
  {
   "cell_type": "markdown",
   "metadata": {},
   "source": [
    "### 8. Synapse subtyping"
   ]
  }
 ],
 "metadata": {
  "kernelspec": {
   "display_name": "Python 3",
   "language": "python",
   "name": "python3"
  },
  "language_info": {
   "codemirror_mode": {
    "name": "ipython",
    "version": 3
   },
   "file_extension": ".py",
   "mimetype": "text/x-python",
   "name": "python",
   "nbconvert_exporter": "python",
   "pygments_lexer": "ipython3",
   "version": "3.11.4"
  }
 },
 "nbformat": 4,
 "nbformat_minor": 2
}
